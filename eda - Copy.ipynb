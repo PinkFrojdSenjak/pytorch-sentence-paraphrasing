{
    "cells": [
        {
            "cell_type": "code",
            "execution_count": 17,
            "source": [
                "import torch\r\n",
                "import numpy as np\r\n",
                "from torch import nn\r\n",
                "import pandas as pd\r\n",
                "import matplotlib.pyplot as plt\r\n",
                "from transformers import BertTokenizerFast\r\n",
                "from sklearn.model_selection import train_test_split"
            ],
            "outputs": [],
            "metadata": {}
        },
        {
            "cell_type": "code",
            "execution_count": 19,
            "source": [
                "df = pd.read_csv('train.csv')\r\n",
                "df =df.dropna()"
            ],
            "outputs": [],
            "metadata": {}
        },
        {
            "cell_type": "code",
            "execution_count": 22,
            "source": [
                "train_old, temp_old, train_new, temp_new = train_test_split(df['old'], df['new'], \r\n",
                "                                                                    random_state=2018, \r\n",
                "                                                                    test_size=0.3)\r\n",
                "val_old, test_old, val_new, test_new = train_test_split(temp_old, temp_new, \r\n",
                "                                                                random_state=2018, \r\n",
                "                                                                test_size=0.5) "
            ],
            "outputs": [],
            "metadata": {}
        },
        {
            "cell_type": "code",
            "execution_count": 23,
            "source": [
                "device = torch.device('cpu')\r\n",
                "if torch.cuda.is_available():\r\n",
                "    device = torch.device(\"cuda\")"
            ],
            "outputs": [],
            "metadata": {}
        },
        {
            "cell_type": "code",
            "execution_count": 24,
            "source": [
                "tokenizer = BertTokenizerFast.from_pretrained('bert-base-uncased')"
            ],
            "outputs": [],
            "metadata": {}
        },
        {
            "cell_type": "code",
            "execution_count": 25,
            "source": [
                "seq_len = [len(str(i).split()) for i in train_old]\r\n",
                "pd.Series(seq_len).plot.hist(bins = 30).plot()\r\n",
                "plt.show()"
            ],
            "outputs": [
                {
                    "output_type": "display_data",
                    "data": {
                        "text/plain": [
                            "<Figure size 432x288 with 1 Axes>"
                        ],
                        "image/png": "[encoded data removed]"
                    },
                    "metadata": {
                        "needs_background": "light"
                    }
                }
            ],
            "metadata": {}
        },
        {
            "cell_type": "markdown",
            "source": [
                "Tokens for training and validation"
            ],
            "metadata": {}
        },
        {
            "cell_type": "code",
            "execution_count": 1,
            "source": [
                "from torchtext.datasets import WikiText2\r\n",
                "from torchtext.data.utils import get_tokenizer\r\n",
                "from torchtext.vocab import build_vocab_from_iterator\r\n",
                "\r\n",
                "train_iter = WikiText2(split='train')\r\n",
                "tokenizer = get_tokenizer('basic_english')\r\n",
                "vocab = build_vocab_from_iterator(map(tokenizer, train_iter), specials=['<unk>'])\r\n",
                "vocab.set_default_index(vocab['<unk>']) "
            ],
            "outputs": [
                {
                    "output_type": "stream",
                    "name": "stderr",
                    "text": [
                        "c:\\Users\\psiml\\Documents\\projekat\\.data\\WikiText2\\wikitext-2-v1.zip: 100%|██████████| 4.48M/4.48M [00:00<00:00, 6.59MB/s]\n"
                    ]
                }
            ],
            "metadata": {}
        },
        {
            "cell_type": "code",
            "execution_count": 5,
            "source": [
                "len(vocab)"
            ],
            "outputs": [
                {
                    "output_type": "execute_result",
                    "data": {
                        "text/plain": [
                            "28782"
                        ]
                    },
                    "metadata": {},
                    "execution_count": 5
                }
            ],
            "metadata": {}
        },
        {
            "cell_type": "code",
            "execution_count": 29,
            "source": [
                "oldTrainTokens = tokenizer.batch_encode_plus(\r\n",
                "    train_old.to_list(),\r\n",
                "    max_length = 32,\r\n",
                "    padding = 'max_length',\r\n",
                "    truncation=True\r\n",
                ")\r\n",
                "newTrainTokens = tokenizer.batch_encode_plus(\r\n",
                "    train_new.to_list(),\r\n",
                "    max_length = 32,\r\n",
                "    padding = 'max_length',\r\n",
                "    truncation=True\r\n",
                ")\r\n",
                "oldValTokens = tokenizer.batch_encode_plus(\r\n",
                "    val_old.to_list(),\r\n",
                "    max_length = 32,\r\n",
                "    padding = 'max_length',\r\n",
                "    truncation=True\r\n",
                ")\r\n",
                "newValTokens = tokenizer.batch_encode_plus(\r\n",
                "    val_new.to_list(),\r\n",
                "    max_length = 32,\r\n",
                "    padding = 'max_length',\r\n",
                "    truncation=True\r\n",
                ")\r\n",
                "\r\n",
                "oldTestTokens = tokenizer.batch_encode_plus(\r\n",
                "    test_old.to_list(),\r\n",
                "    max_length = 32,\r\n",
                "    padding = 'max_length',\r\n",
                "    truncation=True\r\n",
                ")\r\n",
                "newTestTokens = tokenizer.batch_encode_plus(\r\n",
                "    test_new.to_list(),\r\n",
                "    max_length = 32,\r\n",
                "    padding = 'max_length',\r\n",
                "    truncation=True\r\n",
                ")\r\n"
            ],
            "outputs": [],
            "metadata": {}
        },
        {
            "cell_type": "code",
            "execution_count": 37,
            "source": [
                "totensor = torch.tensor(oldTrainTokens['input_ids'])\r\n",
                "tntensor = torch.tensor(newTrainTokens['input_ids'])\r\n",
                "\r\n",
                "tomask = torch.tensor(oldTrainTokens['attention_mask'])\r\n",
                "tnmask = torch.tensor(newTrainTokens['attention_mask'])\r\n",
                "\r\n",
                "votensor = torch.tensor(oldValTokens['input_ids'])\r\n",
                "vntensor = torch.tensor(newValTokens['input_ids'])\r\n",
                "\r\n",
                "vomask = torch.tensor(oldValTokens['attention_mask'])\r\n",
                "vnmask = torch.tensor(newValTokens['attention_mask'])\r\n",
                "\r\n",
                "testotensor = torch.tensor(oldTestTokens['input_ids'])\r\n",
                "testntensor = torch.tensor(newTestTokens['input_ids'])\r\n",
                "\r\n",
                "testomask = torch.tensor(oldTestTokens['attention_mask'])\r\n",
                "testnmask = torch.tensor(newTestTokens['attention_mask'])"
            ],
            "outputs": [],
            "metadata": {}
        },
        {
            "cell_type": "code",
            "execution_count": 38,
            "source": [
                "from torch.utils.data import TensorDataset, DataLoader, RandomSampler, SequentialSampler\r\n",
                "batch_size = 32\r\n",
                "trainData = TensorDataset(totensor, tntensor, tomask, tnmask)\r\n",
                "valData = TensorDataset(votensor, vntensor, vomask, vnmask)\r\n",
                "testData = TensorDataset(testotensor, testntensor, testomask, testnmask)"
            ],
            "outputs": [],
            "metadata": {}
        },
        {
            "cell_type": "code",
            "execution_count": 39,
            "source": [
                "trainSampler = RandomSampler(trainData)\r\n",
                "valSampler = RandomSampler(valData)\r\n",
                "testSampler = RandomSampler(testData)"
            ],
            "outputs": [],
            "metadata": {}
        },
        {
            "cell_type": "code",
            "execution_count": 40,
            "source": [
                "trainDataloader = DataLoader(trainData, sampler=trainSampler, batch_size=batch_size)\r\n",
                "valDataloader = DataLoader(valData, sampler=valSampler, batch_size=batch_size)\r\n",
                "trainDataloader = DataLoader(testData, sampler=testSampler, batch_size=batch_size)"
            ],
            "outputs": [],
            "metadata": {}
        },
        {
            "cell_type": "code",
            "execution_count": 54,
            "source": [
                "from TransformerModel import Transformer\r\n",
                "\r\n",
                "model = Transformer()\r\n",
                "model = model.to(device = device)\r\n",
                "\r\n",
                "from transformers import AdamW\r\n",
                "optimizer = AdamW(model.parameters(), lr = 1e-5)\r\n",
                "crossEntropy = nn.CrossEntropyLoss()\r\n",
                "epochs = 10"
            ],
            "outputs": [],
            "metadata": {}
        },
        {
            "cell_type": "code",
            "execution_count": 52,
            "source": [
                "def train():\r\n",
                "  \r\n",
                "    model.train()\r\n",
                "\r\n",
                "    total_loss, total_accuracy = 0, 0\r\n",
                "  \r\n",
                "  # empty list to save model predictions\r\n",
                "    total_preds=[]\r\n",
                "  \r\n",
                "  # iterate over batches\r\n",
                "    for step,batch in enumerate(trainDataloader):\r\n",
                "        if step % 50 == 0 and not step == 0:\r\n",
                "          print('  Batch {:>5,}  of  {:>5,}.'.format(step, len(trainDataloader)))\r\n",
                "\r\n",
                "    # push the batch to gpu\r\n",
                "        batch = [r.to(device) for r in batch]\r\n",
                "        \r\n",
                "        old_id, new_id, old_mask, new_mask = batch\r\n",
                "        old_id = old_id[:,:-1]\r\n",
                "        new_id = new_id[:,1:]\r\n",
                "        model.zero_grad()\r\n",
                "        tgt_mask = model.get_tgt_mask(32)\r\n",
                "        output = model(old_id, new_id,tgt_mask = tgt_mask,src_pad_mask =  old_mask,tgt_pad_mask = new_mask)\r\n",
                "        loss = crossEntropy(new_id, output)\r\n",
                "        print(loss)"
            ],
            "outputs": [],
            "metadata": {}
        },
        {
            "cell_type": "code",
            "execution_count": 53,
            "source": [
                "train()"
            ],
            "outputs": [
                {
                    "output_type": "error",
                    "ename": "TypeError",
                    "evalue": "forward() got an unexpected keyword argument 'tgt_mask'",
                    "traceback": [
                        "\u001b[1;31m---------------------------------------------------------------------------\u001b[0m",
                        "\u001b[1;31mTypeError\u001b[0m                                 Traceback (most recent call last)",
                        "\u001b[1;32m<ipython-input-53-2da0ffaf5447>\u001b[0m in \u001b[0;36m<module>\u001b[1;34m\u001b[0m\n\u001b[1;32m----> 1\u001b[1;33m \u001b[0mtrain\u001b[0m\u001b[1;33m(\u001b[0m\u001b[1;33m)\u001b[0m\u001b[1;33m\u001b[0m\u001b[1;33m\u001b[0m\u001b[0m\n\u001b[0m",
                        "\u001b[1;32m<ipython-input-52-a71fcfdc827e>\u001b[0m in \u001b[0;36mtrain\u001b[1;34m()\u001b[0m\n\u001b[0;32m     21\u001b[0m         \u001b[0mmodel\u001b[0m\u001b[1;33m.\u001b[0m\u001b[0mzero_grad\u001b[0m\u001b[1;33m(\u001b[0m\u001b[1;33m)\u001b[0m\u001b[1;33m\u001b[0m\u001b[1;33m\u001b[0m\u001b[0m\n\u001b[0;32m     22\u001b[0m         \u001b[0mtgt_mask\u001b[0m \u001b[1;33m=\u001b[0m \u001b[0mnn\u001b[0m\u001b[1;33m.\u001b[0m\u001b[0mTransformer\u001b[0m\u001b[1;33m.\u001b[0m\u001b[0mgenerate_square_subsequent_mask\u001b[0m\u001b[1;33m(\u001b[0m\u001b[1;36m32\u001b[0m\u001b[1;33m,\u001b[0m\u001b[1;36m32\u001b[0m\u001b[1;33m)\u001b[0m\u001b[1;33m\u001b[0m\u001b[1;33m\u001b[0m\u001b[0m\n\u001b[1;32m---> 23\u001b[1;33m         \u001b[0moutput\u001b[0m \u001b[1;33m=\u001b[0m \u001b[0mmodel\u001b[0m\u001b[1;33m(\u001b[0m\u001b[0mold_id\u001b[0m\u001b[1;33m,\u001b[0m \u001b[0mnew_id\u001b[0m\u001b[1;33m,\u001b[0m\u001b[0mtgt_mask\u001b[0m \u001b[1;33m=\u001b[0m \u001b[0mtgt_mask\u001b[0m\u001b[1;33m,\u001b[0m\u001b[0msrc_pad_mask\u001b[0m \u001b[1;33m=\u001b[0m  \u001b[0mold_mask\u001b[0m\u001b[1;33m,\u001b[0m\u001b[0mtgt_pad_mask\u001b[0m \u001b[1;33m=\u001b[0m \u001b[0mnew_mask\u001b[0m\u001b[1;33m)\u001b[0m\u001b[1;33m\u001b[0m\u001b[1;33m\u001b[0m\u001b[0m\n\u001b[0m\u001b[0;32m     24\u001b[0m         \u001b[0mloss\u001b[0m \u001b[1;33m=\u001b[0m \u001b[0mcrossEntropy\u001b[0m\u001b[1;33m(\u001b[0m\u001b[0mnew_id\u001b[0m\u001b[1;33m,\u001b[0m \u001b[0moutput\u001b[0m\u001b[1;33m)\u001b[0m\u001b[1;33m\u001b[0m\u001b[1;33m\u001b[0m\u001b[0m\n\u001b[0;32m     25\u001b[0m         \u001b[0mprint\u001b[0m\u001b[1;33m(\u001b[0m\u001b[0mloss\u001b[0m\u001b[1;33m)\u001b[0m\u001b[1;33m\u001b[0m\u001b[1;33m\u001b[0m\u001b[0m\n",
                        "\u001b[1;32m~\\anaconda3\\lib\\site-packages\\torch\\nn\\modules\\module.py\u001b[0m in \u001b[0;36m_call_impl\u001b[1;34m(self, *input, **kwargs)\u001b[0m\n\u001b[0;32m   1049\u001b[0m         if not (self._backward_hooks or self._forward_hooks or self._forward_pre_hooks or _global_backward_hooks\n\u001b[0;32m   1050\u001b[0m                 or _global_forward_hooks or _global_forward_pre_hooks):\n\u001b[1;32m-> 1051\u001b[1;33m             \u001b[1;32mreturn\u001b[0m \u001b[0mforward_call\u001b[0m\u001b[1;33m(\u001b[0m\u001b[1;33m*\u001b[0m\u001b[0minput\u001b[0m\u001b[1;33m,\u001b[0m \u001b[1;33m**\u001b[0m\u001b[0mkwargs\u001b[0m\u001b[1;33m)\u001b[0m\u001b[1;33m\u001b[0m\u001b[1;33m\u001b[0m\u001b[0m\n\u001b[0m\u001b[0;32m   1052\u001b[0m         \u001b[1;31m# Do not call functions when jit is used\u001b[0m\u001b[1;33m\u001b[0m\u001b[1;33m\u001b[0m\u001b[1;33m\u001b[0m\u001b[0m\n\u001b[0;32m   1053\u001b[0m         \u001b[0mfull_backward_hooks\u001b[0m\u001b[1;33m,\u001b[0m \u001b[0mnon_full_backward_hooks\u001b[0m \u001b[1;33m=\u001b[0m \u001b[1;33m[\u001b[0m\u001b[1;33m]\u001b[0m\u001b[1;33m,\u001b[0m \u001b[1;33m[\u001b[0m\u001b[1;33m]\u001b[0m\u001b[1;33m\u001b[0m\u001b[1;33m\u001b[0m\u001b[0m\n",
                        "\u001b[1;31mTypeError\u001b[0m: forward() got an unexpected keyword argument 'tgt_mask'"
                    ]
                }
            ],
            "metadata": {}
        }
    ],
    "metadata": {
        "orig_nbformat": 4,
        "language_info": {
            "name": "python",
            "version": "3.8.8",
            "mimetype": "text/x-python",
            "codemirror_mode": {
                "name": "ipython",
                "version": 3
            },
            "pygments_lexer": "ipython3",
            "nbconvert_exporter": "python",
            "file_extension": ".py"
        },
        "kernelspec": {
            "name": "python3",
            "display_name": "Python 3.8.8 64-bit ('base': conda)"
        },
        "interpreter": {
            "hash": "9a30607b245585c54d2df3b0bd75967df9bf62b9525f84187576cad8fa1cff9a"
        }
    },
    "nbformat": 4,
    "nbformat_minor": 2
}